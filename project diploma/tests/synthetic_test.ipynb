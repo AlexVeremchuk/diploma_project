{
 "cells": [
  {
   "cell_type": "code",
   "execution_count": null,
   "id": "4cb295a1",
   "metadata": {
    "vscode": {
     "languageId": "plaintext"
    }
   },
   "outputs": [],
   "source": [
    "from my_leakage_detector.main import DataLeakageDetector, load_data_from_json"
   ]
  },
  {
   "cell_type": "code",
   "execution_count": null,
   "id": "f68988e6",
   "metadata": {
    "vscode": {
     "languageId": "plaintext"
    }
   },
   "outputs": [],
   "source": [
    "# Замените путь, если файл лежит в другом месте\n",
    "json_file = \"synthetic_data.json\"\n",
    "\n",
    "X_train, X_test, y_train, y_test, X_leaky, leak_flags = load_data_from_json(json_file)\n"
   ]
  },
  {
   "cell_type": "code",
   "execution_count": null,
   "id": "c654ba84",
   "metadata": {
    "vscode": {
     "languageId": "plaintext"
    }
   },
   "outputs": [],
   "source": [
    "# Initialize detector\n",
    "detector = DataLeakageDetector()\n",
    "detector.set_ground_truth(leak_flags)\n",
    "detector.detect_overlap(X_train, X_test)\n",
    "detector.detect_multitest(np.vstack([X_train, X_test]))\n",
    "detector.detect_preprocessing(X_train, X_test)\n",
    "detector.detect_target(X_leaky, np.concatenate([y_train, y_test]))"
   ]
  },
  {
   "cell_type": "code",
   "execution_count": null,
   "id": "7a881867",
   "metadata": {
    "vscode": {
     "languageId": "plaintext"
    }
   },
   "outputs": [],
   "source": [
    "metrics = detector.calculate_metrics()\n",
    "detector.visualize()\n",
    "import pandas as pd\n",
    "print(pd.DataFrame([metrics]).T)"
   ]
  }
 ],
 "metadata": {
  "language_info": {
   "name": "python"
  }
 },
 "nbformat": 4,
 "nbformat_minor": 5
}
